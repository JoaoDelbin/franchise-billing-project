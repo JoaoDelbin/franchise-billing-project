{
 "cells": [
  {
   "cell_type": "markdown",
   "metadata": {},
   "source": [
    "### Passo 1 - Importar Arquivos e Bibliotecas"
   ]
  },
  {
   "cell_type": "code",
   "execution_count": null,
   "metadata": {},
   "outputs": [],
   "source": [
    "import pandas as pd\n",
    "import win32com.client as win32\n",
    "import pathlib\n"
   ]
  },
  {
   "cell_type": "code",
   "execution_count": null,
   "metadata": {},
   "outputs": [],
   "source": [
    "emails = pd.read_excel(r'BASE DE DADOS 1\\Emails.xlsx')\n",
    "lojas = pd.read_csv(r'BASE DE DADOS 1\\Lojas.csv', sep=';', encoding='latin1')\n",
    "vendas = pd.read_excel(r'BASE DE DADOS 1\\Vendas.xlsx')\n",
    "display(emails)\n",
    "display(lojas)\n",
    "display(vendas)"
   ]
  },
  {
   "cell_type": "markdown",
   "metadata": {},
   "source": [
    "### Passo 2 - Definir Criar uma Tabela para cada Loja e Definir o dia do Indicador"
   ]
  },
  {
   "cell_type": "code",
   "execution_count": null,
   "metadata": {},
   "outputs": [],
   "source": [
    "#incluir nome da loja em vendas\n",
    "\n",
    "vendas = vendas.merge(lojas, on='ID Loja')\n",
    "\n"
   ]
  },
  {
   "cell_type": "code",
   "execution_count": null,
   "metadata": {},
   "outputs": [],
   "source": [
    "dic_lojas = {}\n",
    "for loja in lojas['Loja']:\n",
    "    dic_lojas[loja] = vendas.loc[vendas['Loja']==loja, :]\n",
    "    \n",
    "display(dic_lojas['Norte Shopping'])\n",
    "display(dic_lojas['Rio Mar Recife'])"
   ]
  },
  {
   "cell_type": "code",
   "execution_count": null,
   "metadata": {},
   "outputs": [],
   "source": [
    "dia_indicador = vendas['Data'].max()\n",
    "\n",
    "print('{}/{}'.format(dia_indicador.day, dia_indicador.month))"
   ]
  },
  {
   "cell_type": "markdown",
   "metadata": {},
   "source": [
    "### Passo 3 - Salvar a planilha na pasta de backup"
   ]
  },
  {
   "cell_type": "code",
   "execution_count": null,
   "metadata": {},
   "outputs": [],
   "source": [
    "#identificar se a pasta ja existe\n",
    "#import pahtlib\n",
    "\n",
    "caminho_backup = pathlib.Path(r'Backup Arquivos Lojas')\n",
    "\n",
    "arquivos_pasta_backup = caminho_backup.iterdir()\n",
    "\n",
    "lista_nomes_backup = [arquivo.name for arquivo in arquivos_pasta_backup]\n",
    "\n",
    "for loja in dic_lojas:\n",
    "    if loja not in lista_nomes_backup:\n",
    "        nova_pasta = caminho_backup / loja\n",
    "        nova_pasta.mkdir()\n",
    "        \n",
    "    #salvar dentro da pasta\n",
    "    nome_arquivo = '{}_{}_{}.xlsx'.format(dia_indicador.month, dia_indicador.day, loja)\n",
    "    local_arquivo = caminho_backup / loja / nome_arquivo\n",
    "    dic_lojas[loja].to_excel(local_arquivo)\n"
   ]
  },
  {
   "cell_type": "markdown",
   "metadata": {},
   "source": [
    "### Passo 4 - Calcular o indicador para 1 loja"
   ]
  },
  {
   "cell_type": "code",
   "execution_count": null,
   "metadata": {},
   "outputs": [],
   "source": [
    "#definição de metas\n",
    "\n",
    "meta_faturamento_dia = 1000\n",
    "meta_faturamento_ano = 1650000\n",
    "meta_qtdeprodutos_dia = 4\n",
    "meta_qtdeprodutos_ano = 120\n",
    "meta_ticketmedio_dia = 500\n",
    "meta_ticketmedio_ano = 500"
   ]
  },
  {
   "cell_type": "code",
   "execution_count": 58,
   "metadata": {
    "scrolled": true
   },
   "outputs": [],
   "source": [
    "loja = 'Norte Shopping'\n",
    "\n",
    "vendas_loja = dic_lojas[loja]\n",
    "vendas_loja_dia = vendas_loja.loc[vendas_loja['Data']==dia_indicador , :]\n",
    "#faaturamento\n",
    "faturamento_ano = vendas_loja['Valor Final'].sum()\n",
    "\n",
    "faturamento_dia = vendas_loja_dia['Valor Final'].sum()\n",
    "\n",
    "\n",
    "#diversidade de produtos\n",
    "qtde_produtos_ano = len(vendas_loja['Produto'].unique())\n",
    "#print(qtde_produtos_ano)\n",
    "qtde_produtos_dia = len(vendas_loja_dia['Produto'].unique())\n",
    "#print(qtde_produtos_dia)\n",
    "\n"
   ]
  },
  {
   "cell_type": "code",
   "execution_count": 59,
   "metadata": {},
   "outputs": [
    {
     "name": "stdout",
     "output_type": "stream",
     "text": [
      "784.5866177818515\n",
      "1259.0\n"
     ]
    }
   ],
   "source": [
    "#ticket medio\n",
    "valor_venda = vendas_loja.groupby('Código Venda').sum()\n",
    "ticket_medio_ano = valor_venda['Valor Final'].mean()\n",
    "print(ticket_medio_ano)\n",
    "#ticket_medio_dia\n",
    "valor_venda_dia = vendas_loja_dia.groupby('Código Venda').sum()\n",
    "ticket_medio_dia = valor_venda_dia['Valor Final'].mean()\n",
    "print(ticket_medio_dia)"
   ]
  },
  {
   "cell_type": "markdown",
   "metadata": {},
   "source": [
    "### Passo 5 - Enviar por e-mail para o gerente"
   ]
  },
  {
   "cell_type": "code",
   "execution_count": null,
   "metadata": {},
   "outputs": [],
   "source": []
  },
  {
   "cell_type": "code",
   "execution_count": 69,
   "metadata": {},
   "outputs": [
    {
     "name": "stdout",
     "output_type": "stream",
     "text": [
      "Email enviado com sucesso!\n"
     ]
    }
   ],
   "source": [
    "import email.message\n",
    "import mimetypes\n",
    "import smtplib\n",
    "from email.message import EmailMessage\n",
    "\n",
    "nome = emails.loc[emails['Loja']==loja, 'Gerente'].values[0]\n",
    " \n",
    "if faturamento_dia >= meta_faturamento_dia:\n",
    "        cor_fat_dia = 'green'\n",
    "else:\n",
    "        cor_fat_dia = 'red'\n",
    "if faturamento_ano >= meta_faturamento_ano:\n",
    "        cor_fat_ano = 'green'\n",
    "else:\n",
    "        cor_fat_ano = 'red'\n",
    "if qtde_produtos_dia >= meta_qtdeprodutos_dia:\n",
    "        cor_qtde_dia = 'green'\n",
    "else:\n",
    "        cor_qtde_dia = 'red'\n",
    "if qtde_produtos_ano >= meta_qtdeprodutos_ano:\n",
    "        cor_qtde_ano = 'green'\n",
    "else:\n",
    "        cor_qtde_ano = 'red'\n",
    "if ticket_medio_dia >= meta_ticketmedio_dia:\n",
    "        cor_ticket_dia = 'green'\n",
    "else:\n",
    "        cor_ticket_dia = 'red'\n",
    "if ticket_medio_ano >= meta_ticketmedio_ano:\n",
    "        cor_ticket_ano = 'green'\n",
    "else:\n",
    "        cor_ticket_ano = 'red'\n",
    "        \n",
    "def enviar_emails():\n",
    "    corpo_email = f\"\"\"\n",
    "    <p>Bom dia, {nome}</p>\n",
    "\n",
    "    <p>O resultado de ontem <strong>({dia_indicador.day}/{dia_indicador.month})</strong> da <strong>Loja {loja}</strong> foi:</p>\n",
    "\n",
    "    <table>\n",
    "      <tr>\n",
    "        <th>Indicador</th>\n",
    "        <th>Valor Dia</th>\n",
    "        <th>Meta Dia</th>\n",
    "        <th>Cenário Dia</th>\n",
    "      </tr>\n",
    "      <tr>\n",
    "        <td>Faturamento</td>\n",
    "        <td style=\"text-align: center\">R${faturamento_dia:.2f}</td>\n",
    "        <td style=\"text-align: center\">R${meta_faturamento_dia:.2f}</td>\n",
    "        <td style=\"text-align: center\"><font color=\"{cor_fat_dia}\">◙</font></td>\n",
    "      </tr>\n",
    "      <tr>\n",
    "        <td>Diversidade de Produtos</td>\n",
    "        <td style=\"text-align: center\">{qtde_produtos_dia}</td>\n",
    "        <td style=\"text-align: center\">{meta_qtdeprodutos_dia}</td>\n",
    "        <td style=\"text-align: center\"><font color=\"{cor_qtde_dia}\">◙</font></td>\n",
    "      </tr>\n",
    "      <tr>\n",
    "        <td>Ticket Médio</td>\n",
    "        <td style=\"text-align: center\">R${ticket_medio_dia:.2f}</td>\n",
    "        <td style=\"text-align: center\">R${meta_ticketmedio_dia:.2f}</td>\n",
    "        <td style=\"text-align: center\"><font color=\"{cor_ticket_dia}\">◙</font></td>\n",
    "      </tr>\n",
    "    </table>\n",
    "    <br>\n",
    "    <table>\n",
    "      <tr>\n",
    "        <th>Indicador</th>\n",
    "        <th>Valor Ano</th>\n",
    "        <th>Meta Ano</th>\n",
    "        <th>Cenário Ano</th>\n",
    "      </tr>\n",
    "      <tr>\n",
    "        <td>Faturamento</td>\n",
    "        <td style=\"text-align: center\">R${faturamento_ano:.2f}</td>\n",
    "        <td style=\"text-align: center\">R${meta_faturamento_ano:.2f}</td>\n",
    "        <td style=\"text-align: center\"><font color=\"{cor_fat_ano}\">◙</font></td>\n",
    "      </tr>\n",
    "      <tr>\n",
    "        <td>Diversidade de Produtos</td>\n",
    "        <td style=\"text-align: center\">{qtde_produtos_ano}</td>\n",
    "        <td style=\"text-align: center\">{meta_qtdeprodutos_ano}</td>\n",
    "        <td style=\"text-align: center\"><font color=\"{cor_qtde_ano}\">◙</font></td>\n",
    "      </tr>\n",
    "      <tr>\n",
    "        <td>Ticket Médio</td>\n",
    "        <td style=\"text-align: center\">R${ticket_medio_ano:.2f}</td>\n",
    "        <td style=\"text-align: center\">R${meta_ticketmedio_ano:.2f}</td>\n",
    "        <td style=\"text-align: center\"><font color=\"{cor_ticket_ano}\">◙</font></td>\n",
    "      </tr>\n",
    "    </table>\n",
    "\n",
    "    <p>Segue em anexo a planilha com todos os dados para mais detalhes.</p>\n",
    "\n",
    "    <p>Qualquer dúvida estou à disposição.</p>\n",
    "    <p>Att., João Paulo</p>\n",
    "    \n",
    "    \"\"\"\n",
    "    \n",
    "    \n",
    "    \n",
    "    msg = EmailMessage()\n",
    "    msg['Subject'] = \"OnePage Dia {}/{} - Loja{}\".format(dia_indicador.day, dia_indicador.month, loja)\n",
    "    msg['From'] = 'ztyxmad@gmail.com'\n",
    "    msg['To'] = emails.loc[emails['Loja']==loja, 'E-mail'].values[0]\n",
    "    password = 'tqqd wetk hdvs mkfg'\n",
    "    msg.add_header('Content-Type', 'text/html')\n",
    "    msg.set_content(corpo_email, subtype='html')\n",
    "\n",
    "\n",
    "    # ANEXO\n",
    "    import mimetypes\n",
    "    attachment = pathlib.Path.cwd() / caminho_backup / loja / f'{dia_indicador.month}_{dia_indicador.day}_{loja}.xlsx'\n",
    "    \n",
    "    mime_type, encoding = mimetypes.guess_type(attachment.name)\n",
    "    with open(attachment, 'rb') as fp:\n",
    "        dados = fp.read()\n",
    "    msg.add_attachment(dados, filename=f'{dia_indicador.month}_{dia_indicador.day}_{loja}.xlsx', maintype='application', subtype='vnd.openxmlformats-officedocument.spreadsheetml.sheet')\n",
    "\n",
    "\n",
    "    s = smtplib.SMTP('smtp.gmail.com: 587')\n",
    "    s.starttls()\n",
    "    \n",
    "    # Login Credentials for sending the mail\n",
    "    s.login(msg['From'], password)\n",
    "    s.send_message(msg)\n",
    "    print('Email enviado com sucesso!')\n",
    "\n",
    "\n",
    "enviar_emails()"
   ]
  },
  {
   "cell_type": "code",
   "execution_count": 53,
   "metadata": {},
   "outputs": [
    {
     "ename": "NameError",
     "evalue": "name 'filename' is not defined",
     "output_type": "error",
     "traceback": [
      "\u001b[1;31m---------------------------------------------------------------------------\u001b[0m",
      "\u001b[1;31mNameError\u001b[0m                                 Traceback (most recent call last)",
      "\u001b[1;32m<ipython-input-53-8e199f82ce93>\u001b[0m in \u001b[0;36m<module>\u001b[1;34m\u001b[0m\n\u001b[1;32m----> 1\u001b[1;33m \u001b[0mprint\u001b[0m\u001b[1;33m(\u001b[0m\u001b[0mfilename\u001b[0m\u001b[1;33m)\u001b[0m\u001b[1;33m\u001b[0m\u001b[1;33m\u001b[0m\u001b[0m\n\u001b[0m",
      "\u001b[1;31mNameError\u001b[0m: name 'filename' is not defined"
     ]
    }
   ],
   "source": []
  },
  {
   "cell_type": "code",
   "execution_count": null,
   "metadata": {},
   "outputs": [],
   "source": [
    "print(attachment.name)"
   ]
  },
  {
   "cell_type": "markdown",
   "metadata": {},
   "source": [
    "### Passo 6 - Automatizar todas as lojas"
   ]
  },
  {
   "cell_type": "code",
   "execution_count": 76,
   "metadata": {},
   "outputs": [
    {
     "name": "stdout",
     "output_type": "stream",
     "text": [
      "E-mail da Loja Iguatemi Esplanada enviado\n",
      "E-mail da Loja Shopping Midway Mall enviado\n",
      "E-mail da Loja Norte Shopping enviado\n",
      "E-mail da Loja Shopping Iguatemi Fortaleza enviado\n",
      "E-mail da Loja Shopping União de Osasco enviado\n",
      "E-mail da Loja Shopping Center Interlagos enviado\n",
      "E-mail da Loja Rio Mar Recife enviado\n",
      "E-mail da Loja Salvador Shopping enviado\n",
      "E-mail da Loja Rio Mar Shopping Fortaleza enviado\n",
      "E-mail da Loja Shopping Center Leste Aricanduva enviado\n",
      "E-mail da Loja Ribeirão Shopping enviado\n",
      "E-mail da Loja Shopping Morumbi enviado\n",
      "E-mail da Loja Parque Dom Pedro Shopping enviado\n",
      "E-mail da Loja Bourbon Shopping SP enviado\n",
      "E-mail da Loja Palladium Shopping Curitiba enviado\n",
      "E-mail da Loja Passei das Águas Shopping enviado\n",
      "E-mail da Loja Center Shopping Uberlândia enviado\n",
      "E-mail da Loja Shopping Recife enviado\n",
      "E-mail da Loja Shopping Vila Velha enviado\n",
      "E-mail da Loja Shopping SP Market enviado\n",
      "E-mail da Loja Shopping Eldorado enviado\n",
      "E-mail da Loja Shopping Ibirapuera enviado\n",
      "E-mail da Loja Novo Shopping Ribeirão Preto enviado\n",
      "E-mail da Loja Iguatemi Campinas enviado\n",
      "E-mail da Loja Shopping Barra enviado\n"
     ]
    }
   ],
   "source": [
    "for loja in dic_lojas:\n",
    "\n",
    "    vendas_loja = dic_lojas[loja]\n",
    "    vendas_loja_dia = vendas_loja.loc[vendas_loja['Data']==dia_indicador , :]\n",
    "    #faaturamento\n",
    "    faturamento_ano = vendas_loja['Valor Final'].sum()\n",
    "\n",
    "    faturamento_dia = vendas_loja_dia['Valor Final'].sum()\n",
    "\n",
    "\n",
    "    #diversidade de produtos\n",
    "    qtde_produtos_ano = len(vendas_loja['Produto'].unique())\n",
    "    #print(qtde_produtos_ano)\n",
    "    qtde_produtos_dia = len(vendas_loja_dia['Produto'].unique())\n",
    "    #print(qtde_produtos_dia)\n",
    "\n",
    "    #ticket medio\n",
    "    valor_venda = vendas_loja.groupby('Código Venda').sum()\n",
    "    ticket_medio_ano = valor_venda['Valor Final'].mean()\n",
    "    #print(ticket_medio_ano)\n",
    "    #ticket_medio_dia\n",
    "    valor_venda_dia = vendas_loja_dia.groupby('Código Venda').sum()\n",
    "    ticket_medio_dia = valor_venda_dia['Valor Final'].mean()\n",
    "    #print(ticket_medio_dia)\n",
    "\n",
    "    import email.message\n",
    "    import mimetypes\n",
    "    import smtplib\n",
    "    from email.message import EmailMessage\n",
    "\n",
    "    nome = emails.loc[emails['Loja']==loja, 'Gerente'].values[0]\n",
    "\n",
    "    if faturamento_dia >= meta_faturamento_dia:\n",
    "            cor_fat_dia = 'green'\n",
    "    else:\n",
    "            cor_fat_dia = 'red'\n",
    "    if faturamento_ano >= meta_faturamento_ano:\n",
    "            cor_fat_ano = 'green'\n",
    "    else:\n",
    "            cor_fat_ano = 'red'\n",
    "    if qtde_produtos_dia >= meta_qtdeprodutos_dia:\n",
    "            cor_qtde_dia = 'green'\n",
    "    else:\n",
    "            cor_qtde_dia = 'red'\n",
    "    if qtde_produtos_ano >= meta_qtdeprodutos_ano:\n",
    "            cor_qtde_ano = 'green'\n",
    "    else:\n",
    "            cor_qtde_ano = 'red'\n",
    "    if ticket_medio_dia >= meta_ticketmedio_dia:\n",
    "            cor_ticket_dia = 'green'\n",
    "    else:\n",
    "            cor_ticket_dia = 'red'\n",
    "    if ticket_medio_ano >= meta_ticketmedio_ano:\n",
    "            cor_ticket_ano = 'green'\n",
    "    else:\n",
    "            cor_ticket_ano = 'red'\n",
    "\n",
    "    \n",
    "    corpo_email = f\"\"\"\n",
    "        <p>Bom dia, {nome}</p>\n",
    "\n",
    "        <p>O resultado de ontem <strong>({dia_indicador.day}/{dia_indicador.month})</strong> da <strong>Loja {loja}</strong> foi:</p>\n",
    "\n",
    "        <table>\n",
    "          <tr>\n",
    "            <th>Indicador</th>\n",
    "            <th>Valor Dia</th>\n",
    "            <th>Meta Dia</th>\n",
    "            <th>Cenário Dia</th>\n",
    "          </tr>\n",
    "          <tr>\n",
    "            <td>Faturamento</td>\n",
    "            <td style=\"text-align: center\">R${faturamento_dia:.2f}</td>\n",
    "            <td style=\"text-align: center\">R${meta_faturamento_dia:.2f}</td>\n",
    "            <td style=\"text-align: center\"><font color=\"{cor_fat_dia}\">◙</font></td>\n",
    "          </tr>\n",
    "          <tr>\n",
    "            <td>Diversidade de Produtos</td>\n",
    "            <td style=\"text-align: center\">{qtde_produtos_dia}</td>\n",
    "            <td style=\"text-align: center\">{meta_qtdeprodutos_dia}</td>\n",
    "            <td style=\"text-align: center\"><font color=\"{cor_qtde_dia}\">◙</font></td>\n",
    "          </tr>\n",
    "          <tr>\n",
    "            <td>Ticket Médio</td>\n",
    "            <td style=\"text-align: center\">R${ticket_medio_dia:.2f}</td>\n",
    "            <td style=\"text-align: center\">R${meta_ticketmedio_dia:.2f}</td>\n",
    "            <td style=\"text-align: center\"><font color=\"{cor_ticket_dia}\">◙</font></td>\n",
    "          </tr>\n",
    "        </table>\n",
    "        <br>\n",
    "        <table>\n",
    "          <tr>\n",
    "            <th>Indicador</th>\n",
    "            <th>Valor Ano</th>\n",
    "            <th>Meta Ano</th>\n",
    "            <th>Cenário Ano</th>\n",
    "          </tr>\n",
    "          <tr>\n",
    "            <td>Faturamento</td>\n",
    "            <td style=\"text-align: center\">R${faturamento_ano:.2f}</td>\n",
    "            <td style=\"text-align: center\">R${meta_faturamento_ano:.2f}</td>\n",
    "            <td style=\"text-align: center\"><font color=\"{cor_fat_ano}\">◙</font></td>\n",
    "          </tr>\n",
    "          <tr>\n",
    "            <td>Diversidade de Produtos</td>\n",
    "            <td style=\"text-align: center\">{qtde_produtos_ano}</td>\n",
    "            <td style=\"text-align: center\">{meta_qtdeprodutos_ano}</td>\n",
    "            <td style=\"text-align: center\"><font color=\"{cor_qtde_ano}\">◙</font></td>\n",
    "          </tr>\n",
    "          <tr>\n",
    "            <td>Ticket Médio</td>\n",
    "            <td style=\"text-align: center\">R${ticket_medio_ano:.2f}</td>\n",
    "            <td style=\"text-align: center\">R${meta_ticketmedio_ano:.2f}</td>\n",
    "            <td style=\"text-align: center\"><font color=\"{cor_ticket_ano}\">◙</font></td>\n",
    "          </tr>\n",
    "        </table>\n",
    "\n",
    "        <p>Segue em anexo a planilha com todos os dados para mais detalhes.</p>\n",
    "\n",
    "        <p>Qualquer dúvida estou à disposição.</p>\n",
    "        <p>Att., João Paulo</p>\n",
    "\n",
    "        \"\"\"\n",
    "\n",
    "\n",
    "\n",
    "    msg = EmailMessage()\n",
    "    msg['Subject'] = \"OnePage Dia {}/{} - Loja{}\".format(dia_indicador.day, dia_indicador.month, loja)\n",
    "    msg['From'] = 'ztyxmad@gmail.com'\n",
    "    msg['To'] = emails.loc[emails['Loja']==loja, 'E-mail'].values[0]\n",
    "    password = 'tqqd wetk hdvs mkfg'\n",
    "    msg.add_header('Content-Type', 'text/html')\n",
    "    msg.set_content(corpo_email, subtype='html')\n",
    "\n",
    "\n",
    "        # ANEXO\n",
    "    import mimetypes\n",
    "    attachment = pathlib.Path.cwd() / caminho_backup / loja / f'{dia_indicador.month}_{dia_indicador.day}_{loja}.xlsx'\n",
    "\n",
    "    mime_type, encoding = mimetypes.guess_type(attachment.name)\n",
    "    with open(attachment, 'rb') as fp:\n",
    "        dados = fp.read()\n",
    "    msg.add_attachment(dados, filename=f'{dia_indicador.month}_{dia_indicador.day}_{loja}.xlsx', maintype='application', subtype='vnd.openxmlformats-officedocument.spreadsheetml.sheet')\n",
    "\n",
    "\n",
    "    s = smtplib.SMTP('smtp.gmail.com: 587')\n",
    "    s.starttls()\n",
    "\n",
    "    # Login Credentials for sending the mail\n",
    "    s.login(msg['From'], password)\n",
    "    s.send_message(msg)\n",
    "    print('E-mail da Loja {} enviado'.format(loja))"
   ]
  },
  {
   "cell_type": "markdown",
   "metadata": {},
   "source": [
    "### Passo 7 - Criar ranking para diretoria"
   ]
  },
  {
   "cell_type": "code",
   "execution_count": null,
   "metadata": {},
   "outputs": [],
   "source": [
    "dasdaa"
   ]
  },
  {
   "cell_type": "markdown",
   "metadata": {},
   "source": [
    "### Passo 8 - Enviar e-mail para diretoria"
   ]
  },
  {
   "cell_type": "code",
   "execution_count": null,
   "metadata": {},
   "outputs": [],
   "source": []
  }
 ],
 "metadata": {
  "kernelspec": {
   "display_name": "Python 3",
   "language": "python",
   "name": "python3"
  },
  "language_info": {
   "codemirror_mode": {
    "name": "ipython",
    "version": 3
   },
   "file_extension": ".py",
   "mimetype": "text/x-python",
   "name": "python",
   "nbconvert_exporter": "python",
   "pygments_lexer": "ipython3",
   "version": "3.7.4"
  }
 },
 "nbformat": 4,
 "nbformat_minor": 4
}
